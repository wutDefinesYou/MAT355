{
 "cells": [
  {
   "cell_type": "markdown",
   "metadata": {},
   "source": [
    "### 10.2.1 Calculation of  $\\pi$ by Monte Carlo Method"
   ]
  },
  {
   "cell_type": "markdown",
   "metadata": {},
   "source": [
    "\\begin{align}\n",
    "1/\\sqrt{m} < 1/2 \\times 10^{-3} \\\\\n",
    "\\frac{1}{\\frac{1}{2}\\times 10^{-3}} < \\sqrt{m} \\\\\n",
    "2000 < \\sqrt{m} \\\\\n",
    "4000000 < m\n",
    "\\end{align}\n",
    "\n",
    "We need more than 4,000,000 points in the square that happen to lie in the circle."
   ]
  },
  {
   "cell_type": "code",
   "execution_count": 5,
   "metadata": {},
   "outputs": [
    {
     "name": "stdout",
     "output_type": "stream",
     "text": [
      "The area of the circle is approximately 3.141919.\n",
      "The error is 3.264581e-04.\n"
     ]
    },
    {
     "data": {
      "image/png": "[encoded data removed]",
      "text/plain": [
       "<IPython.core.display.Image object>"
      ]
     },
     "metadata": {},
     "output_type": "display_data"
    }
   ],
   "source": [
    "rand(\"state\", 2020)\n",
    "\n",
    "m = 0;\n",
    "n = 0;\n",
    "while m < 4000000\n",
    "    n += 1;\n",
    "    a = 2*rand();\n",
    "    b = 2*rand() - 1;\n",
    "    if (a - 1)^2 + b^2 < 1\n",
    "        m += 1;\n",
    "        x(m) = a;\n",
    "        y(m) = b;\n",
    "    endif\n",
    "endwhile\n",
    "\n",
    "plot(x,y,\"r.\")\n",
    "axis equal\n",
    "printf(\"The area of the circle is approximately %.6f.\\n\", m/n*4)\n",
    "printf(\"The error is %7.6e.\\n\", abs(pi - m/n*4))"
   ]
  },
  {
   "cell_type": "markdown",
   "metadata": {},
   "source": [
    "The approximate value of $\\pi$ is 3.141919, accurate to three decimal places."
   ]
  },
  {
   "cell_type": "markdown",
   "metadata": {},
   "source": [
    "### CE 10.2.8 Find the area of the irregular figure\n",
    "\\begin{align}\n",
    "1 \\leq x \\leq 3 \\\\\n",
    "-1 \\leq y \\leq 4 \\\\\n",
    "x^3 + y^3 \\leq 29 \\\\\n",
    "y \\geq e^x - 2\n",
    "\\end{align}"
   ]
  },
  {
   "cell_type": "code",
   "execution_count": 35,
   "metadata": {},
   "outputs": [
    {
     "name": "stdout",
     "output_type": "stream",
     "text": [
      "The area of the irregular figure is approximately 8.159800.\n"
     ]
    }
   ],
   "source": [
    "rand(\"state\", 2020)\n",
    "\n",
    "n = 10^5;\n",
    "\n",
    "x = 4*rand(n,1) - 1;\n",
    "y = 5*rand(n,1) - 1;\n",
    "\n",
    "printf(\"The area of the irregular figure is approximately %.6f.\\n\", sum((x.^3 + y.^3 <= 29) .* (y >= exp(x) - 2)) / n * 20)"
   ]
  },
  {
   "cell_type": "markdown",
   "metadata": {},
   "source": [
    "### CE 10.2.9 Estimate the volume of the solid\n",
    "\\begin{align}\n",
    "    0 \\leq x \\leq y \\\\\n",
    "    1 \\leq y \\leq 2 \\\\\n",
    "    -1 \\leq z \\leq 3 \\\\\n",
    "    e^x \\leq y \\\\\n",
    "    ysinz \\geq 0\n",
    "\\end{align}\n",
    "\n",
    "Since $y \\leq 2$ and $x \\leq y$, $x$ must be less than $2$."
   ]
  },
  {
   "cell_type": "code",
   "execution_count": 22,
   "metadata": {},
   "outputs": [
    {
     "name": "stdout",
     "output_type": "stream",
     "text": [
      "The volume of the solid is 1.152160.\n"
     ]
    }
   ],
   "source": [
    "rand(\"state\", 2020)\n",
    "\n",
    "n = 10^5;\n",
    "\n",
    "x = 2*rand(n,1);\n",
    "y = rand(n,1) + 1;\n",
    "z = 4*rand(n,1) - 1;\n",
    "\n",
    "printf(\"The volume of the solid is %.6f.\\n\", sum((exp(x) <= y) .* (y.*sin(z) >= 0)) / n * 8)"
   ]
  },
  {
   "cell_type": "markdown",
   "metadata": {},
   "source": [
    "### CE 10.2.4 Estimate the integral\n",
    "$$ \\int_{3.2}^{5.9} \\frac{e^{sin(x)+x^2}}{lnx} dx $$"
   ]
  },
  {
   "cell_type": "code",
   "execution_count": 4,
   "metadata": {},
   "outputs": [
    {
     "name": "stdout",
     "output_type": "stream",
     "text": [
      "The integral is approximately 3.406000e+13 using 1,000 random points.\n",
      "The integral is approximately 3.839985e+13 using 10,000 random points.\n",
      "The integral is approximately 4.106612e+13 using 100,000 random points.\n",
      "Using Octave built-in function to estimate the integral: 4.090557e+13.\n"
     ]
    }
   ],
   "source": [
    "rand(\"state\", 2020)\n",
    "\n",
    "n1 = 10^3;\n",
    "n2 = 10^4;\n",
    "n3 = 10^5;\n",
    "\n",
    "x1 = 2.7*rand(n1,1) + 3.2;\n",
    "x2 = 2.7*rand(n2,1) + 3.2;\n",
    "x3 = 2.7*rand(n3,1) + 3.2;\n",
    "\n",
    "printf(\"The integral is approximately %.6e using 1,000 random points.\\n\", sum((exp(sin(x1) + x1.^2))./ log(x1)) / n1 * 2.7)\n",
    "printf(\"The integral is approximately %.6e using 10,000 random points.\\n\", sum((exp(sin(x2) + x2.^2))./ log(x2)) / n2 * 2.7)\n",
    "printf(\"The integral is approximately %.6e using 100,000 random points.\\n\", sum((exp(sin(x3) + x3.^2))./ log(x3)) / n3 * 2.7)\n",
    "\n",
    "printf(\"Using Octave built-in function to estimate the integral: %.6e.\\n\", quad(@(x) exp(sin(x) + x.^2) / log(x), 3.2, 5.9))"
   ]
  },
  {
   "cell_type": "markdown",
   "metadata": {},
   "source": [
    "Obviously, the more points generated, the higher accuracy of the approximation."
   ]
  }
 ],
 "metadata": {
  "kernelspec": {
   "display_name": "Octave",
   "language": "octave",
   "name": "octave"
  },
  "language_info": {
   "file_extension": ".m",
   "help_links": [
    {
     "text": "GNU Octave",
     "url": "https://www.gnu.org/software/octave/support.html"
    },
    {
     "text": "Octave Kernel",
     "url": "https://github.com/Calysto/octave_kernel"
    },
    {
     "text": "MetaKernel Magics",
     "url": "https://metakernel.readthedocs.io/en/latest/source/README.html"
    }
   ],
   "mimetype": "text/x-octave",
   "name": "octave",
   "version": "5.1.0"
  }
 },
 "nbformat": 4,
 "nbformat_minor": 4
}
